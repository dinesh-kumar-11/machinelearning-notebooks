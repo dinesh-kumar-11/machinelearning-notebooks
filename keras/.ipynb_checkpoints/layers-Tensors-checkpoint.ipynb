{
 "cells": [
  {
   "cell_type": "code",
   "execution_count": 1,
   "metadata": {},
   "outputs": [],
   "source": [
    "import tensorflow.keras as keras"
   ]
  },
  {
   "cell_type": "code",
   "execution_count": 2,
   "metadata": {},
   "outputs": [
    {
     "data": {
      "text/plain": [
       "<tensorflow.python.keras.layers.core.Dense at 0x108a1b8e0>"
      ]
     },
     "execution_count": 2,
     "metadata": {},
     "output_type": "execute_result"
    }
   ],
   "source": [
    "keras.layers.Dense(512, activation='relu')"
   ]
  },
  {
   "cell_type": "markdown",
   "metadata": {},
   "source": [
    "This layer can be interpreted as a function, which takes as input a matrix and returns another matrix — a new representation for the input tensor. Specifically, the function is as follows (where W is a matrix and b is a vector, both attributes of the layer):"
   ]
  },
  {
   "cell_type": "markdown",
   "metadata": {},
   "source": [
    "```\n",
    "output = relu(dot(W, input) + b)\n",
    "\n",
    "```"
   ]
  },
  {
   "cell_type": "markdown",
   "metadata": {},
   "source": [
    "Let’s unpack this. We have three tensor operations here: a dot product (dot) between the input tensor and a tensor named W; an addition (+) between the resulting matrix and a vector b; and, finally, a relu operation. relu(x) is max(x, 0)."
   ]
  },
  {
   "cell_type": "markdown",
   "metadata": {},
   "source": [
    "# Broadcasting"
   ]
  },
  {
   "cell_type": "markdown",
   "metadata": {},
   "source": [
    "Our earlier naive implementation of naive_add only supports the addition of rank-2 tensors with identical shapes. But in the Dense layer introduced earlier, we added a rank-2 tensor with a vector. What happens with addition when the shapes of the two tensors being added differ?"
   ]
  },
  {
   "cell_type": "code",
   "execution_count": 4,
   "metadata": {},
   "outputs": [],
   "source": [
    "import numpy as np\n",
    "x = np.random.random((64, 3, 32, 10))\n",
    "y = np.random.random((32, 10))\n",
    "z = np.maximum(x, y)"
   ]
  },
  {
   "cell_type": "code",
   "execution_count": 6,
   "metadata": {},
   "outputs": [
    {
     "data": {
      "text/plain": [
       "array([[[[0.99149705, 0.54062172, 0.74205824, ..., 0.89435364,\n",
       "          0.59205243, 0.77109762],\n",
       "         [0.63512551, 0.92482047, 0.48171847, ..., 0.86083804,\n",
       "          0.85867771, 0.95368943],\n",
       "         [0.99332791, 0.48468213, 0.85611646, ..., 0.79007831,\n",
       "          0.41611749, 0.6859966 ],\n",
       "         ...,\n",
       "         [0.84189289, 0.58953502, 0.79329896, ..., 0.79790773,\n",
       "          0.5329217 , 0.55770558],\n",
       "         [0.91235346, 0.83020658, 0.24780788, ..., 0.5324426 ,\n",
       "          0.87319481, 0.86300983],\n",
       "         [0.75448722, 0.54032839, 0.82794437, ..., 0.9539366 ,\n",
       "          0.86242993, 0.79676173]],\n",
       "\n",
       "        [[0.32323386, 0.66299592, 0.85179534, ..., 0.89435364,\n",
       "          0.28659528, 0.77109762],\n",
       "         [0.47856257, 0.35545726, 0.48171847, ..., 0.86083804,\n",
       "          0.85867771, 0.95368943],\n",
       "         [0.69701222, 0.48468213, 0.85611646, ..., 0.72934262,\n",
       "          0.41611749, 0.6859966 ],\n",
       "         ...,\n",
       "         [0.84189289, 0.77152211, 0.14995915, ..., 0.71197643,\n",
       "          0.5329217 , 0.49189545],\n",
       "         [0.91235346, 0.48698486, 0.53983957, ..., 0.71687046,\n",
       "          0.87319481, 0.24292768],\n",
       "         [0.75448722, 0.79779272, 0.72881361, ..., 0.9539366 ,\n",
       "          0.58579352, 0.98283102]],\n",
       "\n",
       "        [[0.42382351, 0.99493218, 0.51551774, ..., 0.89435364,\n",
       "          0.90885405, 0.77109762],\n",
       "         [0.47856257, 0.57174543, 0.48171847, ..., 0.86083804,\n",
       "          0.85867771, 0.95368943],\n",
       "         [0.69701222, 0.83437602, 0.85611646, ..., 0.72934262,\n",
       "          0.47983227, 0.6859966 ],\n",
       "         ...,\n",
       "         [0.84189289, 0.28232447, 0.2406301 , ..., 0.79140588,\n",
       "          0.9253146 , 0.78622192],\n",
       "         [0.91235346, 0.99457511, 0.05941339, ..., 0.5324426 ,\n",
       "          0.87319481, 0.19944188],\n",
       "         [0.94768299, 0.94801335, 0.80541868, ..., 0.9539366 ,\n",
       "          0.73547404, 0.89951357]]],\n",
       "\n",
       "\n",
       "       [[[0.92447627, 0.35254663, 0.15805776, ..., 0.96111207,\n",
       "          0.46599035, 0.77109762],\n",
       "         [0.49851144, 0.35545726, 0.79513988, ..., 0.86083804,\n",
       "          0.85867771, 0.95368943],\n",
       "         [0.69701222, 0.48468213, 0.85611646, ..., 0.96658244,\n",
       "          0.41611749, 0.73876825],\n",
       "         ...,\n",
       "         [0.84189289, 0.64971597, 0.75618789, ..., 0.75763859,\n",
       "          0.5329217 , 0.32086302],\n",
       "         [0.91235346, 0.32423551, 0.52160847, ..., 0.5324426 ,\n",
       "          0.87319481, 0.59670144],\n",
       "         [0.75448722, 0.74331664, 0.91548729, ..., 0.9539366 ,\n",
       "          0.58579352, 0.38004257]],\n",
       "\n",
       "        [[0.42621815, 0.68754528, 0.73473461, ..., 0.89435364,\n",
       "          0.10650342, 0.77109762],\n",
       "         [0.47856257, 0.65096576, 0.84788561, ..., 0.86083804,\n",
       "          0.85867771, 0.95368943],\n",
       "         [0.69701222, 0.48468213, 0.85611646, ..., 0.72934262,\n",
       "          0.51533909, 0.6859966 ],\n",
       "         ...,\n",
       "         [0.84189289, 0.79264183, 0.16287236, ..., 0.71197643,\n",
       "          0.90364525, 0.41025182],\n",
       "         [0.91235346, 0.84228068, 0.64376656, ..., 0.65881815,\n",
       "          0.87319481, 0.80846137],\n",
       "         [0.95833696, 0.54032839, 0.72881361, ..., 0.9539366 ,\n",
       "          0.71478685, 0.62986252]],\n",
       "\n",
       "        [[0.17327634, 0.44345305, 0.16819006, ..., 0.89435364,\n",
       "          0.63332941, 0.77109762],\n",
       "         [0.61187968, 0.48828736, 0.48171847, ..., 0.86083804,\n",
       "          0.85867771, 0.95368943],\n",
       "         [0.69701222, 0.85998213, 0.85611646, ..., 0.72934262,\n",
       "          0.5032312 , 0.6859966 ],\n",
       "         ...,\n",
       "         [0.84189289, 0.59609449, 0.60275547, ..., 0.71197643,\n",
       "          0.5329217 , 0.72095162],\n",
       "         [0.98914067, 0.52846968, 0.58503086, ..., 0.5324426 ,\n",
       "          0.87319481, 0.27131412],\n",
       "         [0.75448722, 0.55309296, 0.9329126 , ..., 0.9539366 ,\n",
       "          0.58579352, 0.7258353 ]]],\n",
       "\n",
       "\n",
       "       [[[0.17327634, 0.55784325, 0.26813161, ..., 0.89435364,\n",
       "          0.10650342, 0.77109762],\n",
       "         [0.47856257, 0.9948334 , 0.48171847, ..., 0.86083804,\n",
       "          0.85867771, 0.95368943],\n",
       "         [0.69701222, 0.48468213, 0.85611646, ..., 0.75124263,\n",
       "          0.9424016 , 0.6859966 ],\n",
       "         ...,\n",
       "         [0.84189289, 0.63033006, 0.94751678, ..., 0.71197643,\n",
       "          0.5329217 , 0.32086302],\n",
       "         [0.91235346, 0.93846977, 0.05941339, ..., 0.99267107,\n",
       "          0.87319481, 0.62537577],\n",
       "         [0.75448722, 0.54032839, 0.85828916, ..., 0.9539366 ,\n",
       "          0.71114417, 0.69447293]],\n",
       "\n",
       "        [[0.21656625, 0.83470767, 0.44730527, ..., 0.89435364,\n",
       "          0.4016264 , 0.86039618],\n",
       "         [0.47856257, 0.35545726, 0.56446401, ..., 0.86083804,\n",
       "          0.85867771, 0.97301054],\n",
       "         [0.69701222, 0.48468213, 0.85611646, ..., 0.72934262,\n",
       "          0.41611749, 0.6859966 ],\n",
       "         ...,\n",
       "         [0.84189289, 0.77812433, 0.28919893, ..., 0.71197643,\n",
       "          0.92866704, 0.87873806],\n",
       "         [0.91235346, 0.63740675, 0.78352604, ..., 0.5324426 ,\n",
       "          0.87319481, 0.29385557],\n",
       "         [0.75448722, 0.54032839, 0.72881361, ..., 0.9539366 ,\n",
       "          0.58579352, 0.71291436]],\n",
       "\n",
       "        [[0.26519405, 0.90836166, 0.52476692, ..., 0.89435364,\n",
       "          0.14966791, 0.77109762],\n",
       "         [0.89813443, 0.64206012, 0.48171847, ..., 0.86083804,\n",
       "          0.85867771, 0.95368943],\n",
       "         [0.69701222, 0.48468213, 0.85611646, ..., 0.72934262,\n",
       "          0.41611749, 0.6859966 ],\n",
       "         ...,\n",
       "         [0.84189289, 0.91224711, 0.88842796, ..., 0.71197643,\n",
       "          0.5329217 , 0.32086302],\n",
       "         [0.91235346, 0.32423551, 0.09757649, ..., 0.88253776,\n",
       "          0.87319481, 0.82671808],\n",
       "         [0.98858566, 0.54032839, 0.72881361, ..., 0.9539366 ,\n",
       "          0.58579352, 0.41465721]]],\n",
       "\n",
       "\n",
       "       ...,\n",
       "\n",
       "\n",
       "       [[[0.97140727, 0.35254663, 0.86244419, ..., 0.89435364,\n",
       "          0.64267356, 0.77256246],\n",
       "         [0.82022958, 0.76831625, 0.48171847, ..., 0.86083804,\n",
       "          0.85867771, 0.95368943],\n",
       "         [0.69701222, 0.92593791, 0.85611646, ..., 0.72934262,\n",
       "          0.68923453, 0.6859966 ],\n",
       "         ...,\n",
       "         [0.9366794 , 0.28232447, 0.3976576 , ..., 0.71197643,\n",
       "          0.55525569, 0.95097177],\n",
       "         [0.91235346, 0.96673707, 0.83749773, ..., 0.5324426 ,\n",
       "          0.87319481, 0.38794945],\n",
       "         [0.78614697, 0.54032839, 0.72881361, ..., 0.9539366 ,\n",
       "          0.58579352, 0.65520055]],\n",
       "\n",
       "        [[0.17327634, 0.35254663, 0.09266395, ..., 0.89435364,\n",
       "          0.73445657, 0.77109762],\n",
       "         [0.78751123, 0.69874908, 0.48171847, ..., 0.86083804,\n",
       "          0.99848967, 0.95368943],\n",
       "         [0.69701222, 0.48468213, 0.88932801, ..., 0.72934262,\n",
       "          0.86642631, 0.6859966 ],\n",
       "         ...,\n",
       "         [0.84189289, 0.28232447, 0.350783  , ..., 0.71197643,\n",
       "          0.5329217 , 0.71946128],\n",
       "         [0.91235346, 0.52413397, 0.16916399, ..., 0.5324426 ,\n",
       "          0.92207526, 0.25842657],\n",
       "         [0.75546299, 0.55211737, 0.92514091, ..., 0.9539366 ,\n",
       "          0.58579352, 0.79565794]],\n",
       "\n",
       "        [[0.29821463, 0.55178911, 0.64700868, ..., 0.89435364,\n",
       "          0.69966436, 0.77109762],\n",
       "         [0.7622386 , 0.59903923, 0.75719793, ..., 0.86083804,\n",
       "          0.85867771, 0.95368943],\n",
       "         [0.91723997, 0.48468213, 0.85611646, ..., 0.72934262,\n",
       "          0.8867998 , 0.6859966 ],\n",
       "         ...,\n",
       "         [0.84189289, 0.28436496, 0.8293591 , ..., 0.71197643,\n",
       "          0.78801435, 0.59672628],\n",
       "         [0.99485489, 0.95009697, 0.56945101, ..., 0.5324426 ,\n",
       "          0.87319481, 0.48365373],\n",
       "         [0.75448722, 0.55995904, 0.72881361, ..., 0.9539366 ,\n",
       "          0.58579352, 0.90936598]]],\n",
       "\n",
       "\n",
       "       [[[0.24322667, 0.44267124, 0.10142255, ..., 0.89435364,\n",
       "          0.3351756 , 0.77109762],\n",
       "         [0.59672523, 0.93501712, 0.48171847, ..., 0.86083804,\n",
       "          0.85867771, 0.95368943],\n",
       "         [0.69701222, 0.65287313, 0.8898603 , ..., 0.83509769,\n",
       "          0.41611749, 0.6859966 ],\n",
       "         ...,\n",
       "         [0.84189289, 0.28232447, 0.73549868, ..., 0.71197643,\n",
       "          0.5329217 , 0.89626979],\n",
       "         [0.91235346, 0.92227029, 0.63547184, ..., 0.90916574,\n",
       "          0.87319481, 0.54420008],\n",
       "         [0.75448722, 0.84071226, 0.87075378, ..., 0.9539366 ,\n",
       "          0.71417342, 0.18551744]],\n",
       "\n",
       "        [[0.48158752, 0.82859254, 0.47048811, ..., 0.89435364,\n",
       "          0.25975144, 0.77109762],\n",
       "         [0.47856257, 0.55937267, 0.80287882, ..., 0.86083804,\n",
       "          0.85867771, 0.95551675],\n",
       "         [0.69701222, 0.48468213, 0.85611646, ..., 0.72934262,\n",
       "          0.86317825, 0.6859966 ],\n",
       "         ...,\n",
       "         [0.84189289, 0.89449568, 0.14995915, ..., 0.71197643,\n",
       "          0.65506692, 0.32086302],\n",
       "         [0.91235346, 0.82648914, 0.81852127, ..., 0.5324426 ,\n",
       "          0.87319481, 0.25606255],\n",
       "         [0.75448722, 0.96539616, 0.72881361, ..., 0.9539366 ,\n",
       "          0.64701855, 0.59225325]],\n",
       "\n",
       "        [[0.30288424, 0.68738331, 0.12798328, ..., 0.89435364,\n",
       "          0.88758203, 0.77109762],\n",
       "         [0.70175991, 0.71219032, 0.48171847, ..., 0.88950591,\n",
       "          0.85867771, 0.95368943],\n",
       "         [0.73694945, 0.92383747, 0.85611646, ..., 0.82522695,\n",
       "          0.41611749, 0.6859966 ],\n",
       "         ...,\n",
       "         [0.84189289, 0.83091116, 0.14995915, ..., 0.71197643,\n",
       "          0.5329217 , 0.85379825],\n",
       "         [0.91235346, 0.32423551, 0.4066753 , ..., 0.66793072,\n",
       "          0.92109216, 0.98811702],\n",
       "         [0.9952115 , 0.54032839, 0.85036752, ..., 0.9539366 ,\n",
       "          0.58579352, 0.58331922]]],\n",
       "\n",
       "\n",
       "       [[[0.17327634, 0.35254663, 0.11100552, ..., 0.89435364,\n",
       "          0.76957289, 0.77109762],\n",
       "         [0.84237994, 0.85685825, 0.61548849, ..., 0.86083804,\n",
       "          0.85867771, 0.98624256],\n",
       "         [0.69701222, 0.48468213, 0.85611646, ..., 0.72934262,\n",
       "          0.95055782, 0.6859966 ],\n",
       "         ...,\n",
       "         [0.84189289, 0.31513212, 0.60609028, ..., 0.71197643,\n",
       "          0.5329217 , 0.9177195 ],\n",
       "         [0.91235346, 0.80162201, 0.79515787, ..., 0.5324426 ,\n",
       "          0.87319481, 0.23358735],\n",
       "         [0.75448722, 0.62200116, 0.72881361, ..., 0.9539366 ,\n",
       "          0.58579352, 0.7175871 ]],\n",
       "\n",
       "        [[0.82893441, 0.35254663, 0.97882489, ..., 0.96280129,\n",
       "          0.10650342, 0.91756183],\n",
       "         [0.47856257, 0.96193384, 0.5731162 , ..., 0.86083804,\n",
       "          0.85867771, 0.95368943],\n",
       "         [0.69701222, 0.48468213, 0.88609983, ..., 0.72934262,\n",
       "          0.41611749, 0.77291617],\n",
       "         ...,\n",
       "         [0.84189289, 0.28953667, 0.5647992 , ..., 0.71197643,\n",
       "          0.63220223, 0.71409825],\n",
       "         [0.91235346, 0.89468908, 0.75129195, ..., 0.98593037,\n",
       "          0.87319481, 0.95121197],\n",
       "         [0.83809754, 0.54032839, 0.72881361, ..., 0.9539366 ,\n",
       "          0.82936018, 0.4232492 ]],\n",
       "\n",
       "        [[0.91198711, 0.35254663, 0.84780268, ..., 0.89435364,\n",
       "          0.50643885, 0.77109762],\n",
       "         [0.47856257, 0.35545726, 0.48171847, ..., 0.86083804,\n",
       "          0.85867771, 0.95368943],\n",
       "         [0.69701222, 0.64277647, 0.85611646, ..., 0.72934262,\n",
       "          0.92597927, 0.6859966 ],\n",
       "         ...,\n",
       "         [0.84189289, 0.37750398, 0.61209116, ..., 0.71197643,\n",
       "          0.59345638, 0.32086302],\n",
       "         [0.91235346, 0.65705242, 0.90073841, ..., 0.5324426 ,\n",
       "          0.87319481, 0.54576221],\n",
       "         [0.93516984, 0.56153857, 0.72881361, ..., 0.9539366 ,\n",
       "          0.58579352, 0.31170708]]]])"
      ]
     },
     "execution_count": 6,
     "metadata": {},
     "output_type": "execute_result"
    }
   ],
   "source": [
    "z"
   ]
  },
  {
   "cell_type": "markdown",
   "metadata": {},
   "source": [
    "# Tensor reshaping"
   ]
  },
  {
   "cell_type": "code",
   "execution_count": 7,
   "metadata": {},
   "outputs": [],
   "source": [
    "x = np.array([[0., 1.],\n",
    "                 [2., 3.],\n",
    "                 [4., 5.]])"
   ]
  },
  {
   "cell_type": "code",
   "execution_count": 8,
   "metadata": {},
   "outputs": [
    {
     "data": {
      "text/plain": [
       "(3, 2)"
      ]
     },
     "execution_count": 8,
     "metadata": {},
     "output_type": "execute_result"
    }
   ],
   "source": [
    "x.shape"
   ]
  },
  {
   "cell_type": "code",
   "execution_count": 10,
   "metadata": {},
   "outputs": [
    {
     "data": {
      "text/plain": [
       "2"
      ]
     },
     "execution_count": 10,
     "metadata": {},
     "output_type": "execute_result"
    }
   ],
   "source": [
    "x.ndim"
   ]
  },
  {
   "cell_type": "code",
   "execution_count": 11,
   "metadata": {},
   "outputs": [],
   "source": [
    "y = x.reshape((6, 1))"
   ]
  },
  {
   "cell_type": "code",
   "execution_count": 12,
   "metadata": {},
   "outputs": [
    {
     "data": {
      "text/plain": [
       "2"
      ]
     },
     "execution_count": 12,
     "metadata": {},
     "output_type": "execute_result"
    }
   ],
   "source": [
    "y.ndim"
   ]
  },
  {
   "cell_type": "code",
   "execution_count": 13,
   "metadata": {},
   "outputs": [
    {
     "data": {
      "text/plain": [
       "(6, 1)"
      ]
     },
     "execution_count": 13,
     "metadata": {},
     "output_type": "execute_result"
    }
   ],
   "source": [
    "y.shape"
   ]
  },
  {
   "cell_type": "code",
   "execution_count": 17,
   "metadata": {},
   "outputs": [],
   "source": [
    "z = np.array([[0],[1],[2],[3],[4],[5]])"
   ]
  },
  {
   "cell_type": "code",
   "execution_count": 18,
   "metadata": {},
   "outputs": [
    {
     "data": {
      "text/plain": [
       "(6, 1)"
      ]
     },
     "execution_count": 18,
     "metadata": {},
     "output_type": "execute_result"
    }
   ],
   "source": [
    "z.shape"
   ]
  },
  {
   "cell_type": "code",
   "execution_count": 20,
   "metadata": {},
   "outputs": [
    {
     "data": {
      "text/plain": [
       "2"
      ]
     },
     "execution_count": 20,
     "metadata": {},
     "output_type": "execute_result"
    }
   ],
   "source": [
    "z.ndim"
   ]
  },
  {
   "cell_type": "code",
   "execution_count": 22,
   "metadata": {},
   "outputs": [
    {
     "data": {
      "text/plain": [
       "True"
      ]
     },
     "execution_count": 22,
     "metadata": {},
     "output_type": "execute_result"
    }
   ],
   "source": [
    "np.array_equal(y,z)"
   ]
  },
  {
   "cell_type": "code",
   "execution_count": 23,
   "metadata": {},
   "outputs": [
    {
     "data": {
      "text/plain": [
       "array([[0.],\n",
       "       [1.],\n",
       "       [2.],\n",
       "       [3.],\n",
       "       [4.],\n",
       "       [5.]])"
      ]
     },
     "execution_count": 23,
     "metadata": {},
     "output_type": "execute_result"
    }
   ],
   "source": [
    "y"
   ]
  },
  {
   "cell_type": "markdown",
   "metadata": {},
   "source": [
    "A special case of reshaping that’s commonly encountered is transposition. Transposing a matrix means exchanging its rows and its columns, so that x[i, :] becomes x[:, i]:"
   ]
  },
  {
   "cell_type": "markdown",
   "metadata": {},
   "source": [
    "# Geometric interpretation of tensor operations"
   ]
  },
  {
   "cell_type": "code",
   "execution_count": 38,
   "metadata": {},
   "outputs": [],
   "source": [
    "A = np.array([0.5, 1])"
   ]
  },
  {
   "cell_type": "markdown",
   "metadata": {},
   "source": [
    "point in a 2D space"
   ]
  },
  {
   "cell_type": "code",
   "execution_count": 39,
   "metadata": {},
   "outputs": [],
   "source": [
    "import matplotlib.pyplot as plt\n"
   ]
  },
  {
   "cell_type": "code",
   "execution_count": 81,
   "metadata": {},
   "outputs": [
    {
     "data": {
      "image/png": "[encoded data removed]",
      "text/plain": [
       "<Figure size 432x288 with 1 Axes>"
      ]
     },
     "metadata": {
      "needs_background": "light"
     },
     "output_type": "display_data"
    }
   ],
   "source": [
    "plt.quiver(0,0,0.5,1)\n",
    "plt.quiver(0,0,1,0.25)\n",
    "plt.show()"
   ]
  },
  {
   "cell_type": "code",
   "execution_count": 41,
   "metadata": {},
   "outputs": [],
   "source": [
    "B = np.array([1, 0.25]"
   ]
  },
  {
   "cell_type": "code",
   "execution_count": 42,
   "metadata": {},
   "outputs": [
    {
     "data": {
      "text/plain": [
       "array([1.5 , 1.25])"
      ]
     },
     "execution_count": 42,
     "metadata": {},
     "output_type": "execute_result"
    }
   ],
   "source": [
    "C= A+B\n",
    "C"
   ]
  },
  {
   "cell_type": "code",
   "execution_count": 67,
   "metadata": {},
   "outputs": [
    {
     "data": {
      "image/png": "[encoded data removed]",
      "text/plain": [
       "<Figure size 432x288 with 1 Axes>"
      ]
     },
     "metadata": {
      "needs_background": "light"
     },
     "output_type": "display_data"
    }
   ],
   "source": [
    "plt.subplot(111)\n",
    "plt.plot([0.5,1], label=\"A\")\n",
    "plt.plot(B, label=\"B\")\n",
    "plt.plot(C, label='c')\n",
    "plt.legend()\n",
    "plt.ylabel('3D Space')\n",
    "# naming the x axis \n",
    "plt.xlabel('x - axis') \n",
    "# naming the y axis \n",
    "plt.ylabel('y - axis') \n",
    "# setting x and y axis range \n",
    "plt.ylim(0,2) \n",
    "plt.xlim(0,2) \n",
    "plt.show()"
   ]
  },
  {
   "cell_type": "code",
   "execution_count": 71,
   "metadata": {},
   "outputs": [
    {
     "data": {
      "image/png": "[encoded data removed]",
      "text/plain": [
       "<Figure size 432x288 with 1 Axes>"
      ]
     },
     "metadata": {
      "needs_background": "light"
     },
     "output_type": "display_data"
    }
   ],
   "source": [
    "from matplotlib import pyplot as plt\n",
    "\n",
    "fig = plt.figure()\n",
    "ax = fig.add_subplot(111)\n",
    "\n",
    "plt.plot(A,B)\n",
    "plt.plot(C)\n",
    "for i,j in zip(A,B):\n",
    "    ax.annotate('%s)' %j, xy=(i,j), xytext=(30,0), textcoords='offset points')\n",
    "    ax.annotate('(%s,' %i, xy=(i,j))\n",
    "\n",
    "plt.grid()\n",
    "plt.show()"
   ]
  },
  {
   "cell_type": "markdown",
   "metadata": {},
   "source": [
    "In general, elementary geometric operations such as translation, rotation, scaling, skewing, and so on can be expressed as tensor operations"
   ]
  },
  {
   "cell_type": "markdown",
   "metadata": {},
   "source": [
    "Dense layer with relu activation: An important observation about affine transforms is that if you apply many of them repeatedly, you still end up with an affine transform (so you could just have applied that one affine transform in the first place). Let’s try it with two: affine2(affine1(x)) = W2 • (W1 • x + b1) + b2 = (W2 • Wa) • x + (W2 • b1 + b2). That’s an affine transform where the linear part is the matrix W2 • W1 and the translation part is the vector W2 • b1 + b2. As a consequence, a multi-layer neural network made entirely of Dense layers without activations would be equivalent to a single Dense layer. This “deep” neural network would just be a linear model in disguise! This is why we need activation functions, like relu (seen in action in figure TODO). Thanks to activation functions, a chain of Dense layer can be made to implement very complex, non-linear geometric transformation, resulting in very rich hypothesis spaces for your deep neural networks. We cover this idea in more detail in the next chapter."
   ]
  },
  {
   "cell_type": "code",
   "execution_count": null,
   "metadata": {},
   "outputs": [],
   "source": []
  }
 ],
 "metadata": {
  "kernelspec": {
   "display_name": "Python 3",
   "language": "python",
   "name": "python3"
  },
  "language_info": {
   "codemirror_mode": {
    "name": "ipython",
    "version": 3
   },
   "file_extension": ".py",
   "mimetype": "text/x-python",
   "name": "python",
   "nbconvert_exporter": "python",
   "pygments_lexer": "ipython3",
   "version": "3.8.5"
  }
 },
 "nbformat": 4,
 "nbformat_minor": 4
}
