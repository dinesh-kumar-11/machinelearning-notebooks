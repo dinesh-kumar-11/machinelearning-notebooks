{
 "cells": [
  {
   "cell_type": "code",
   "execution_count": 2,
   "metadata": {},
   "outputs": [],
   "source": [
    "import numpy as np"
   ]
  },
  {
   "cell_type": "code",
   "execution_count": 3,
   "metadata": {},
   "outputs": [],
   "source": [
    "timesteps = 100\n",
    "input_features = 32\n",
    "output_features = 64\n",
    "\n",
    "inputs = np.random.random((timesteps, input_features))"
   ]
  },
  {
   "cell_type": "code",
   "execution_count": 4,
   "metadata": {},
   "outputs": [
    {
     "data": {
      "text/plain": [
       "array([[0.55346495, 0.32348821, 0.42758083, ..., 0.94489427, 0.16637504,\n",
       "        0.61846376],\n",
       "       [0.36515678, 0.18566338, 0.1055004 , ..., 0.0293424 , 0.49538376,\n",
       "        0.00599618],\n",
       "       [0.09025366, 0.43070641, 0.80608805, ..., 0.65893432, 0.33882637,\n",
       "        0.75153141],\n",
       "       ...,\n",
       "       [0.69509816, 0.67878541, 0.50758377, ..., 0.79186962, 0.26913246,\n",
       "        0.82561329],\n",
       "       [0.80169157, 0.40266922, 0.83467666, ..., 0.18747684, 0.35809003,\n",
       "        0.23632379],\n",
       "       [0.70122683, 0.29863339, 0.69576199, ..., 0.84279634, 0.64345603,\n",
       "        0.23361875]])"
      ]
     },
     "execution_count": 4,
     "metadata": {},
     "output_type": "execute_result"
    }
   ],
   "source": [
    "inputs"
   ]
  },
  {
   "cell_type": "code",
   "execution_count": 6,
   "metadata": {},
   "outputs": [],
   "source": [
    "state_t = np.zeros((output_features,))"
   ]
  },
  {
   "cell_type": "code",
   "execution_count": 7,
   "metadata": {},
   "outputs": [],
   "source": [
    "import numpy as np\n",
    "\n",
    "timesteps = 100\n",
    "input_features = 32\n",
    "output_features = 64\n",
    "\n",
    "inputs = np.random.random((timesteps, input_features))\n",
    "\n",
    "state_t = np.zeros((output_features,))\n",
    "\n",
    "W = np.random.random((output_features, input_features))\n",
    "U = np.random.random((output_features, output_features))\n",
    "b = np.random.random((output_features,))\n",
    "\n",
    "successive_outputs = []\n",
    "for input_t in inputs:\n",
    "    output_t = np.tanh(np.dot(W, input_t) + np.dot(U, state_t) + b)\n",
    "\n",
    "    successive_outputs.append(output_t)\n",
    "\n",
    "    state_t = output_t\n",
    "\n",
    "final_output_sequence = np.concatenate(successive_outputs, axis=0)\n",
    "\n"
   ]
  },
  {
   "cell_type": "code",
   "execution_count": 8,
   "metadata": {},
   "outputs": [
    {
     "data": {
      "text/plain": [
       "array([0.99999996, 0.99999742, 0.99999976, ..., 1.        , 1.        ,\n",
       "       1.        ])"
      ]
     },
     "execution_count": 8,
     "metadata": {},
     "output_type": "execute_result"
    }
   ],
   "source": [
    "final_output_sequence"
   ]
  },
  {
   "cell_type": "code",
   "execution_count": 10,
   "metadata": {},
   "outputs": [],
   "source": [
    "from tensorflow.keras.layers import SimpleRNN"
   ]
  },
  {
   "cell_type": "code",
   "execution_count": null,
   "metadata": {},
   "outputs": [],
   "source": [
    ">>> from keras.models import Sequential\n",
    ">>> from keras.layers import Embedding, SimpleRNN\n",
    ">>> model = Sequential()\n",
    ">>> model.add(Embedding(10000, 32))\n",
    ">>> model.add(SimpleRNN(32))\n",
    ">>> model.summary()\n",
    "________________________________________________________________\n",
    "Layer (type)                     Output Shape          Param #\n",
    "================================================================\n",
    "embedding_22 (Embedding)         (None, None, 32)      320000\n",
    "________________________________________________________________\n",
    "simplernn_10 (SimpleRNN)         (None, 32)            2080\n",
    "================================================================\n",
    "Total params: 322,080\n",
    "Trainable params: 322,080\n",
    "Non-trainable params: 0"
   ]
  }
 ],
 "metadata": {
  "kernelspec": {
   "display_name": "Python 3",
   "language": "python",
   "name": "python3"
  },
  "language_info": {
   "codemirror_mode": {
    "name": "ipython",
    "version": 3
   },
   "file_extension": ".py",
   "mimetype": "text/x-python",
   "name": "python",
   "nbconvert_exporter": "python",
   "pygments_lexer": "ipython3",
   "version": "3.8.5"
  }
 },
 "nbformat": 4,
 "nbformat_minor": 4
}
