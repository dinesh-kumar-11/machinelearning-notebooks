{
 "cells": [
  {
   "cell_type": "code",
   "execution_count": 2,
   "metadata": {},
   "outputs": [
    {
     "name": "stdout",
     "output_type": "stream",
     "text": [
      "Loading data...\n"
     ]
    },
    {
     "name": "stderr",
     "output_type": "stream",
     "text": [
      "<__array_function__ internals>:5: VisibleDeprecationWarning: Creating an ndarray from ragged nested sequences (which is a list-or-tuple of lists-or-tuples-or ndarrays with different lengths or shapes) is deprecated. If you meant to do this, you must specify 'dtype=object' when creating the ndarray\n",
      "/Users/dinesh/miniconda3/envs/mypy3/lib/python3.8/site-packages/tensorflow/python/keras/datasets/imdb.py:159: VisibleDeprecationWarning: Creating an ndarray from ragged nested sequences (which is a list-or-tuple of lists-or-tuples-or ndarrays with different lengths or shapes) is deprecated. If you meant to do this, you must specify 'dtype=object' when creating the ndarray\n",
      "  x_train, y_train = np.array(xs[:idx]), np.array(labels[:idx])\n",
      "/Users/dinesh/miniconda3/envs/mypy3/lib/python3.8/site-packages/tensorflow/python/keras/datasets/imdb.py:160: VisibleDeprecationWarning: Creating an ndarray from ragged nested sequences (which is a list-or-tuple of lists-or-tuples-or ndarrays with different lengths or shapes) is deprecated. If you meant to do this, you must specify 'dtype=object' when creating the ndarray\n",
      "  x_test, y_test = np.array(xs[idx:]), np.array(labels[idx:])\n"
     ]
    },
    {
     "name": "stdout",
     "output_type": "stream",
     "text": [
      "25000 train sequences\n",
      "25000 test sequences\n",
      "Pad sequences (samples x time)\n",
      "input_train shape: (25000, 500)\n",
      "input_test shape: (25000, 500)\n"
     ]
    }
   ],
   "source": [
    "from tensorflow.keras.datasets import imdb\n",
    "from tensorflow.keras.preprocessing import sequence\n",
    "\n",
    "max_features = 10000\n",
    "maxlen = 500\n",
    "batch_size = 32\n",
    "\n",
    "print('Loading data...')\n",
    "(input_train, y_train), (input_test, y_test) = imdb.load_data(\n",
    "     num_words=max_features)\n",
    "print(len(input_train), 'train sequences')\n",
    "print(len(input_test), 'test sequences')\n",
    "\n",
    "print('Pad sequences (samples x time)')\n",
    "input_train = sequence.pad_sequences(input_train, maxlen=maxlen)\n",
    "input_test = sequence.pad_sequences(input_test, maxlen=maxlen)\n",
    "print('input_train shape:', input_train.shape)\n",
    "print('input_test shape:', input_test.shape)\n",
    "\n"
   ]
  },
  {
   "cell_type": "code",
   "execution_count": 9,
   "metadata": {},
   "outputs": [
    {
     "name": "stdout",
     "output_type": "stream",
     "text": [
      "Epoch 1/10\n",
      "157/157 [==============================] - 20s 128ms/step - loss: 0.5282 - acc: 0.7368 - val_loss: 0.4677 - val_acc: 0.7814\n",
      "Epoch 2/10\n",
      "157/157 [==============================] - 21s 132ms/step - loss: 0.3441 - acc: 0.8625 - val_loss: 0.3531 - val_acc: 0.8602\n",
      "Epoch 3/10\n",
      "157/157 [==============================] - 21s 136ms/step - loss: 0.2779 - acc: 0.8911 - val_loss: 0.4468 - val_acc: 0.7856\n",
      "Epoch 4/10\n",
      "157/157 [==============================] - 19s 123ms/step - loss: 0.2434 - acc: 0.9079 - val_loss: 0.3734 - val_acc: 0.8584\n",
      "Epoch 5/10\n",
      "157/157 [==============================] - 19s 121ms/step - loss: 0.2131 - acc: 0.9195 - val_loss: 0.3634 - val_acc: 0.8752\n",
      "Epoch 6/10\n",
      "157/157 [==============================] - 19s 120ms/step - loss: 0.1839 - acc: 0.9313 - val_loss: 0.4364 - val_acc: 0.8044\n",
      "Epoch 7/10\n",
      "157/157 [==============================] - 19s 120ms/step - loss: 0.1591 - acc: 0.9412 - val_loss: 0.3608 - val_acc: 0.8734\n",
      "Epoch 8/10\n",
      "157/157 [==============================] - 19s 118ms/step - loss: 0.1384 - acc: 0.9495 - val_loss: 0.4581 - val_acc: 0.8532\n",
      "Epoch 9/10\n",
      "157/157 [==============================] - 19s 122ms/step - loss: 0.1150 - acc: 0.9590 - val_loss: 0.5078 - val_acc: 0.8038\n",
      "Epoch 10/10\n",
      "157/157 [==============================] - 19s 121ms/step - loss: 0.0809 - acc: 0.9715 - val_loss: 0.4635 - val_acc: 0.8628\n"
     ]
    }
   ],
   "source": [
    "from tensorflow.keras.layers import Dense, Embedding, SimpleRNN\n",
    "from tensorflow.keras.models import Sequential\n",
    "\n",
    "model = Sequential()\n",
    "model.add(Embedding(max_features, 32))\n",
    "model.add(SimpleRNN(32))\n",
    "model.add(Dense(1, activation='sigmoid'))\n",
    "\n",
    "model.compile(optimizer='rmsprop', loss='binary_crossentropy', metrics=['acc'])\n",
    "history = model.fit(input_train, y_train,\n",
    "                    epochs=10,\n",
    "                    batch_size=128,\n",
    "                    validation_split=0.2)"
   ]
  },
  {
   "cell_type": "code",
   "execution_count": 10,
   "metadata": {},
   "outputs": [
    {
     "data": {
      "image/png": "[encoded data removed]",
      "text/plain": [
       "<Figure size 432x288 with 1 Axes>"
      ]
     },
     "metadata": {
      "needs_background": "light"
     },
     "output_type": "display_data"
    },
    {
     "data": {
      "image/png": "[encoded data removed]",
      "text/plain": [
       "<Figure size 432x288 with 1 Axes>"
      ]
     },
     "metadata": {
      "needs_background": "light"
     },
     "output_type": "display_data"
    }
   ],
   "source": [
    "import matplotlib.pyplot as plt\n",
    "\n",
    "acc = history.history['acc']\n",
    "val_acc = history.history['val_acc']\n",
    "loss = history.history['loss']\n",
    "val_loss = history.history['val_loss']\n",
    "\n",
    "epochs = range(1, len(acc) + 1)\n",
    "\n",
    "plt.plot(epochs, acc, 'bo', label='Training acc')\n",
    "plt.plot(epochs, val_acc, 'b', label='Validation acc')\n",
    "plt.title('Training and validation accuracy')\n",
    "plt.legend()\n",
    "\n",
    "plt.figure()\n",
    "\n",
    "plt.plot(epochs, loss, 'bo', label='Training loss')\n",
    "plt.plot(epochs, val_loss, 'b', label='Validation loss')\n",
    "plt.title('Training and validation loss')\n",
    "plt.legend()\n",
    "\n",
    "plt.show()"
   ]
  },
  {
   "cell_type": "code",
   "execution_count": 12,
   "metadata": {},
   "outputs": [
    {
     "name": "stdout",
     "output_type": "stream",
     "text": [
      "Epoch 1/10\n",
      "157/157 [==============================] - 45s 286ms/step - loss: 0.5263 - acc: 0.7500 - val_loss: 0.3540 - val_acc: 0.8576\n",
      "Epoch 2/10\n",
      "157/157 [==============================] - 40s 258ms/step - loss: 0.2983 - acc: 0.8818 - val_loss: 0.3153 - val_acc: 0.8694\n",
      "Epoch 3/10\n",
      "157/157 [==============================] - 40s 255ms/step - loss: 0.2342 - acc: 0.9108 - val_loss: 0.3094 - val_acc: 0.8684\n",
      "Epoch 4/10\n",
      "157/157 [==============================] - 43s 272ms/step - loss: 0.2028 - acc: 0.9255 - val_loss: 0.3220 - val_acc: 0.8678\n",
      "Epoch 5/10\n",
      "157/157 [==============================] - 65s 413ms/step - loss: 0.1822 - acc: 0.9338 - val_loss: 0.3474 - val_acc: 0.8608\n",
      "Epoch 6/10\n",
      "157/157 [==============================] - 53s 335ms/step - loss: 0.1639 - acc: 0.9416 - val_loss: 0.3780 - val_acc: 0.8696\n",
      "Epoch 7/10\n",
      "157/157 [==============================] - 58s 369ms/step - loss: 0.1445 - acc: 0.9484 - val_loss: 0.3460 - val_acc: 0.8768\n",
      "Epoch 8/10\n",
      "157/157 [==============================] - 57s 366ms/step - loss: 0.1381 - acc: 0.9513 - val_loss: 0.3676 - val_acc: 0.8422\n",
      "Epoch 9/10\n",
      "157/157 [==============================] - 56s 357ms/step - loss: 0.1248 - acc: 0.9565 - val_loss: 0.3478 - val_acc: 0.8744\n",
      "Epoch 10/10\n",
      "157/157 [==============================] - 51s 324ms/step - loss: 0.1137 - acc: 0.9611 - val_loss: 0.4181 - val_acc: 0.8560\n"
     ]
    }
   ],
   "source": [
    "from tensorflow.keras.layers import LSTM\n",
    "\n",
    "model = Sequential()\n",
    "model.add(Embedding(max_features, 32))\n",
    "model.add(LSTM(32))\n",
    "model.add(Dense(1, activation='sigmoid'))\n",
    "\n",
    "model.compile(optimizer='rmsprop',\n",
    "              loss='binary_crossentropy',\n",
    "              metrics=['acc'])\n",
    "history = model.fit(input_train, y_train,\n",
    "                    epochs=10,\n",
    "                    batch_size=128,\n",
    "                    validation_split=0.2)"
   ]
  },
  {
   "cell_type": "code",
   "execution_count": null,
   "metadata": {},
   "outputs": [],
   "source": []
  }
 ],
 "metadata": {
  "kernelspec": {
   "display_name": "Python 3",
   "language": "python",
   "name": "python3"
  },
  "language_info": {
   "codemirror_mode": {
    "name": "ipython",
    "version": 3
   },
   "file_extension": ".py",
   "mimetype": "text/x-python",
   "name": "python",
   "nbconvert_exporter": "python",
   "pygments_lexer": "ipython3",
   "version": "3.8.5"
  }
 },
 "nbformat": 4,
 "nbformat_minor": 4
}
